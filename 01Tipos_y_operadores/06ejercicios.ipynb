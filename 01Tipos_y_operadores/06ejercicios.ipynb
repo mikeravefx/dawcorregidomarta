{
 "cells": [
  {
   "cell_type": "markdown",
   "metadata": {},
   "source": [
    "# Ejercicios UD1\n",
    "\n",
    "## Ejercicio 1\n",
    "\n",
    "Crea un programa que pida un número al usuario y muestre su doble.\n"
   ]
  },
  {
   "cell_type": "markdown",
   "metadata": {},
   "source": [
    "\n",
    "## Ejercicio 2\n",
    "\n",
    "Crea un programa que pida el usuario la base y exponente de una potencia y calcule su resultado.\n"
   ]
  },
  {
   "cell_type": "markdown",
   "metadata": {},
   "source": [
    "\n",
    "## Ejercicio 3\n",
    "\n",
    "Busca en la documentación oficial de Python qué realiza y cómo se utiliza la función `round()` (https://docs.python.org/3/library/functions.html). Prueba algunos ejemplos con diferentes números. Utilízala para redondear los resultados de los siguientes ejercicios.\n"
   ]
  },
  {
   "cell_type": "markdown",
   "metadata": {},
   "source": [
    "\n",
    "## Ejercicio 4\n",
    "\n",
    "Crea un programa que dado el nombre de una persona y su peso y altura en kg y cm, imprime su peso en libras, su altura en pies y su IMC (Índice de Masa Corporal). "
   ]
  },
  {
   "cell_type": "markdown",
   "metadata": {},
   "source": [
    "\n",
    "## Ejercicio 5\n",
    "\n",
    "Crea un programa que dada una cantidad en euros, devuelve su valor en dólares.\n"
   ]
  },
  {
   "cell_type": "markdown",
   "metadata": {},
   "source": [
    "## Ejercicio 6\n",
    "\n",
    "Crea un programa que dada una cantidad en dólares, devuelve su valor en euros.\n"
   ]
  },
  {
   "cell_type": "markdown",
   "metadata": {},
   "source": [
    "## Ejercicio 7\n",
    "\n",
    "Crea un programa que permita calcular la hipotenusa (`h`) de un triángulo rectángulo a partir de sus catetos (`a` y `b`)\n"
   ]
  },
  {
   "attachments": {
    "area-esfera.png": {
     "image/png": "[encoded data removed]"
    },
    "volumen-esfera.png": {
     "image/png": "[encoded data removed]"
    }
   },
   "cell_type": "markdown",
   "metadata": {},
   "source": [
    " \n",
    "## Ejercicio 8\n",
    "\n",
    "Crea un programa que permita calcular el área y volumen de una esfera a partir de su radio (r).\n",
    "\n",
    "![area-esfera.png](attachment:area-esfera.png)\n",
    "\n",
    "![volumen-esfera.png](attachment:volumen-esfera.png)\n",
    "\n",
    "Para utilizar la constante PI, debes seguir estos pasos:\n"
   ]
  },
  {
   "cell_type": "code",
   "execution_count": 1,
   "metadata": {},
   "outputs": [
    {
     "name": "stdout",
     "output_type": "stream",
     "text": [
      "3.141592653589793\n"
     ]
    }
   ],
   "source": [
    "import math\n",
    "\n",
    "print(math.pi)"
   ]
  },
  {
   "attachments": {
    "area-cilindro.png": {
     "image/png": "[encoded data removed]"
    },
    "volumen-cilindro.png": {
     "image/png": "[encoded data removed]"
    }
   },
   "cell_type": "markdown",
   "metadata": {},
   "source": [
    "\n",
    "## Ejercicio 9\n",
    "\n",
    "Crea un programa que dado el radio (r) y la altura (h) del cilindro, calcula su área y volumen.\n",
    "\n",
    "![area-cilindro.png](attachment:area-cilindro.png)\n",
    "\n",
    "![volumen-cilindro.png](attachment:volumen-cilindro.png)\n"
   ]
  },
  {
   "attachments": {
    "formula-x-y.png": {
     "image/png": "[encoded data removed]"
    }
   },
   "cell_type": "markdown",
   "metadata": {},
   "source": [
    "\n",
    "## Ejercicio 10\n",
    "\n",
    "Crea un programa que pida un valor por pantalla (x) y haga el siguiente cálculo:\n",
    "\n",
    "![formula-x-y.png](attachment:formula-x-y.png)\n",
    "\n",
    " \n",
    "Puedes hacer pruebas con los siguientes datos:\n",
    "\n",
    "|x|y|\n",
    "|-|-|\n",
    "|1|0.6000000000000001|\n",
    "|10|0.09901951266867294|\n",
    "|100|0.009999000199950014|\n",
    "|-5|-0.19258202567760344|\n"
   ]
  },
  {
   "cell_type": "markdown",
   "metadata": {},
   "source": [
    "## Ejercicio 11\n",
    "\n",
    "Crea un programa que a partir de la hora de comienzo de un evento y su duración (3 valores: hora, minutos, duración en minutos) calcula la hora de finalización del evento. No te preocupes de los errores que pueda introducir el usuario (hora inválida).\n",
    "\n",
    "PISTA: Emplea el operador módulo (`%`)\n",
    "\n",
    "\n"
   ]
  }
 ],
 "metadata": {
  "kernelspec": {
   "display_name": "Python 3",
   "language": "python",
   "name": "python3"
  },
  "language_info": {
   "codemirror_mode": {
    "name": "ipython",
    "version": 3
   },
   "file_extension": ".py",
   "mimetype": "text/x-python",
   "name": "python",
   "nbconvert_exporter": "python",
   "pygments_lexer": "ipython3",
   "version": "3.11.5"
  },
  "orig_nbformat": 4
 },
 "nbformat": 4,
 "nbformat_minor": 2
}
