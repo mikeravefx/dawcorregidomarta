{
 "cells": [
  {
   "cell_type": "markdown",
   "metadata": {},
   "source": [
    "Resoltos en `soluciones_ejercicios_repaso`"
   ]
  },
  {
   "cell_type": "markdown",
   "metadata": {},
   "source": [
    "## Ejercicio 1\n",
    "\n",
    "Crea una función que reciba un número y devuelva True si el número es par y False si es impar.\n",
    "\n",
    "A continuación, el programa debe pedir dos números y mostrar los números pares entre ellos."
   ]
  },
  {
   "cell_type": "markdown",
   "metadata": {},
   "source": [
    "## Ejercicio 2\n",
    "\n",
    "Crea una función que convierta grados Celsius a Fahrenheit. Debe recibir un número con grados Celsius y devolver su equivalente en grados Fahrenheit."
   ]
  },
  {
   "cell_type": "markdown",
   "metadata": {},
   "source": [
    "## Ejercicio 3\n",
    "\n",
    "Crea una función que reciba un número y devuelva el factorial de ese número."
   ]
  },
  {
   "cell_type": "markdown",
   "metadata": {},
   "source": [
    "## Ejercicio 4\n",
    "\n",
    "Crea una función que devuelva un número aleatorio entre un rango dado. La función debe recibir min y max como argumentos, con valores por defecto de 1 y 100, respectivamente."
   ]
  },
  {
   "cell_type": "markdown",
   "metadata": {},
   "source": [
    "## Ejercicio 5\n",
    "\n",
    "Crea una función que cuente cuántas vocales hay en una cadena de texto. La función debe recibir una cadena de texto y devolver el número de vocales."
   ]
  },
  {
   "cell_type": "markdown",
   "metadata": {},
   "source": [
    "## Ejercicio 6\n",
    "\n",
    "Crea una función que clasifique a una persona en \"niñx\", \"adolescente\", \"adultx\" o \"ancianx\" según su edad. La función debe aceptar un argumento edad y devolver una cadena con la clasificación."
   ]
  },
  {
   "cell_type": "markdown",
   "metadata": {},
   "source": [
    "## Ejercicio 7\n",
    "\n",
    "Crea una función que reciba tres parámetros, el nombre y los dos apellidos de una persona y devuelva el nombre completo con los dos apellidos. Debe poder llamarse con dos argumentos (nombre y primera apellido) o con tres (nombre y dos apellidos)."
   ]
  }
 ],
 "metadata": {
  "language_info": {
   "name": "python"
  }
 },
 "nbformat": 4,
 "nbformat_minor": 2
}
