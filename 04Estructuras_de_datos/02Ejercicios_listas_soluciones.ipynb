{
 "cells": [
  {
   "cell_type": "markdown",
   "metadata": {},
   "source": [
    "# Ejercicios\n",
    "\n",
    "## Ejercicio 1\n",
    "\n",
    "Crea una función que pida al usuario 5 números y los guarde en una lista y devuelva esa lista.\n",
    "\n",
    "A continuación, muéstrala en orden inverso a como se introdujeron.\n"
   ]
  },
  {
   "cell_type": "code",
   "execution_count": null,
   "metadata": {},
   "outputs": [
    {
     "name": "stdout",
     "output_type": "stream",
     "text": [
      "[3, 4, 5, 6, 7]\n",
      "[7, 6, 5, 4, 3]\n"
     ]
    }
   ],
   "source": [
    "def crea_lista(posiciones: int) -> list:\n",
    "    lista = []\n",
    "    for i in range(posiciones):\n",
    "        valor = int(input(\"Introduce un entero: \"))\n",
    "        lista.append(valor)\n",
    "    return lista\n",
    "\n",
    "# Crea una función que reciba una lista y la devuelva invertida\n",
    "def invierte_lista(lista: list) -> list:\n",
    "    \"\"\"Invierte una lista\n",
    "\n",
    "    Args:\n",
    "        lista (list): La lista a invertir\n",
    "\n",
    "    Returns:\n",
    "        list: La lista invertida\n",
    "\n",
    "    >>> invierte_lista([1, 2, 3, 4, 5])\n",
    "    [5, 4, 3, 2, 1]\n",
    "    >>> invierte_lista([])\n",
    "    []\n",
    "    >>> invierte_lista([1])\n",
    "    [1]\n",
    "    >>> invierte_lista(['a', 'b', 'c'])\n",
    "    ['c', 'b', 'a']\n",
    "    \"\"\"\n",
    "    return lista[::-1]\n",
    "\n",
    "lista = crea_lista(5)\n",
    "print(lista)\n",
    "print(invierte_lista(lista))"
   ]
  },
  {
   "cell_type": "markdown",
   "metadata": {},
   "source": [
    "\n",
    "## Ejercicio 2\n",
    "\n",
    "Usando la función del ejercicio anterior, úsala y después busca el mayor de los números introducidos.\n"
   ]
  },
  {
   "cell_type": "code",
   "execution_count": 1,
   "metadata": {},
   "outputs": [
    {
     "name": "stdout",
     "output_type": "stream",
     "text": [
      "6\n"
     ]
    }
   ],
   "source": [
    "def crea_lista(posiciones: int) -> list:\n",
    "    lista = []\n",
    "    for i in range(posiciones):\n",
    "        valor = int(input(\"Introduce un entero: \"))\n",
    "        lista.append(valor)\n",
    "    return lista\n",
    "\n",
    "\n",
    "def buscar_mayor(lista: list[int]) -> int | None:\n",
    "    \"\"\"Busca el mayor valor de una lista\n",
    "\n",
    "    Args:\n",
    "        lista (list[int]): La lista\n",
    "\n",
    "    Returns:\n",
    "        int: El mayor valor\n",
    "    >>> buscar_mayor([2, 5, 1, 4, 9, 0])\n",
    "    9\n",
    "    >>> buscar_mayor([2, 5, 1, 4, 9, 10])\n",
    "    10\n",
    "    >>> buscar_mayor([1])\n",
    "    1\n",
    "    >>> buscar_mayor([20, 5, 1, 4, 9, 10])\n",
    "    20\n",
    "    >>> buscar_mayor([]) is None\n",
    "    True\n",
    "    \"\"\"\n",
    "    if len(lista) == 0:\n",
    "        return None\n",
    "    mayor = lista[0]\n",
    "    for valor in lista:\n",
    "        if valor > mayor:\n",
    "            mayor = valor\n",
    "    return mayor\n",
    "\n",
    "\n",
    "lista = crea_lista(5)\n",
    "print(buscar_mayor(lista))"
   ]
  },
  {
   "cell_type": "markdown",
   "metadata": {},
   "source": [
    "\n",
    "## Ejercicio 3\n",
    "\n",
    "A partir de una lista, escribe un programa que cree una lista nueva con los elementos de la primera lista que sean impares.\n"
   ]
  },
  {
   "cell_type": "code",
   "execution_count": null,
   "metadata": {},
   "outputs": [],
   "source": [
    "def devuelve_impares(lista: list[int]) -> list[int]:\n",
    "    \"\"\"Devolve outra lista con só os números impares.\n",
    "\n",
    "    Args:\n",
    "        lista (list[int]): A lista inicial\n",
    "\n",
    "    Returns:\n",
    "        list[int]: A lista con só os impares\n",
    "    >>> devuelve_impares([1, 2, 3, 8, 10])\n",
    "    [1, 3]\n",
    "    >>> devuelve_impares([2, 8, 10])\n",
    "    []\n",
    "    >>> devuelve_impares([1, 5, 7, 9])\n",
    "    [1, 5, 7, 9]\n",
    "    >>> devuelve_impares([])\n",
    "    []\n",
    "    \"\"\"\n",
    "    lista_impares = []\n",
    "    for valor in lista:\n",
    "        if valor % 2 != 0:  # impar\n",
    "            lista_impares.append(valor)\n",
    "    return lista_impares"
   ]
  },
  {
   "cell_type": "markdown",
   "metadata": {},
   "source": [
    "## Ejercicio 4\n",
    "\n",
    "Escribe una función que reciba una lista de enteros y devuelva otra lista con los dobles de sus elementos.\n"
   ]
  },
  {
   "cell_type": "code",
   "execution_count": null,
   "metadata": {},
   "outputs": [],
   "source": [
    "def devuelve_dobres(lista: list[int]) -> list[int]:\n",
    "    \"\"\"Devolve outra lista cos dobres dos valores da lista inicial\n",
    "    Args:\n",
    "        lista (list[int]): A lista inicial\n",
    "\n",
    "    Returns:\n",
    "        list[int]: A lista cos dobres\n",
    "    >>> devuelve_dobres([1, 2, 3, 8, 10])\n",
    "    [2, 4, 6, 16, 20]\n",
    "    >>> devuelve_dobres([])\n",
    "    []\n",
    "    >>> devuelve_dobres([1])\n",
    "    [2]\n",
    "    >>> devuelve_dobres([-1, -3, -2])\n",
    "    [-2, -6, -4]\n",
    "    \"\"\"\n",
    "    lista_dobres = []\n",
    "    for valor in lista:\n",
    "        lista_dobres.append(valor*2)\n",
    "    return lista_dobres"
   ]
  },
  {
   "cell_type": "code",
   "execution_count": null,
   "metadata": {},
   "outputs": [],
   "source": [
    "def devuelve_dobres(lista: list[int]) -> list[int]:\n",
    "    \"\"\"Devolve outra lista cos dobres dos valores da lista inicial\n",
    "    Args:\n",
    "        lista (list[int]): A lista inicial\n",
    "\n",
    "    Returns:\n",
    "        list[int]: A lista cos dobres\n",
    "    >>> devuelve_dobres([1, 2, 3, 8, 10])\n",
    "    [2, 4, 6, 16, 20]\n",
    "    >>> devuelve_dobres([])\n",
    "    []\n",
    "    >>> devuelve_dobres([1])\n",
    "    [2]\n",
    "    >>> devuelve_dobres([-1, -3, -2])\n",
    "    [-2, -6, -4]\n",
    "    \"\"\"\n",
    "    for i in range(len(lista)):\n",
    "        lista[i] *= 2\n",
    "    return lista\n"
   ]
  },
  {
   "cell_type": "markdown",
   "metadata": {},
   "source": [
    "## Ejercicio 5\n",
    "\n",
    "Usa la función del ejercicio 1 para crear una lista. A continuación, reemplaza todos los números negativos de esa lista por 0."
   ]
  },
  {
   "cell_type": "code",
   "execution_count": null,
   "metadata": {},
   "outputs": [],
   "source": [
    "def reemplazar_negativos0(lista: list[int]) -> list[int]:\n",
    "    \"\"\"Devuelve una lista en la que los negativos están reemplazados por 0\n",
    "    Args:\n",
    "        lista (list[int]): La lista inicial\n",
    "\n",
    "    Returns:\n",
    "        list[int]: La lista con los negativos reemplazados por 0\n",
    "    >>> reemplazar_negativos0([2, -1, 6, -2, -1])\n",
    "    [2, 0, 6, 0, 0]\n",
    "    >>> reemplazar_negativos0([-2, -1, -6, -2, -1])\n",
    "    [0, 0, 0, 0, 0]\n",
    "    >>> reemplazar_negativos0([2, 1, 6, 2, 1])\n",
    "    [2, 1, 6, 2, 1]\n",
    "    >>> reemplazar_negativos0([])\n",
    "    []\n",
    "    \"\"\"\n",
    "    for i in range(len(lista)):\n",
    "        if lista[i] < 0:\n",
    "            lista[i] = 0\n",
    "    return lista\n"
   ]
  },
  {
   "cell_type": "markdown",
   "metadata": {},
   "source": [
    "## Ejercicio 6\n",
    "\n",
    "Dada una lista de palabras, crea una nueva lista que contenga solo las palabras que tienen más de 5 letras."
   ]
  },
  {
   "cell_type": "code",
   "execution_count": null,
   "metadata": {},
   "outputs": [],
   "source": [
    "def eliminar_palabras_cortas(lista: list[str], longitud: int) -> list[str]:\n",
    "    \"\"\"Devuelve una lista en la que se eliminan las palabras \n",
    "    Args:\n",
    "        lista (list[int]): La lista inicial\n",
    "\n",
    "    Returns:\n",
    "        list[int]: La lista con las palabras cortas\n",
    "    >>> eliminar_palabras_cortas(['casa', 'trigo', 'verano', 'sol'], 5)\n",
    "    ['trigo', 'verano']\n",
    "    >>> eliminar_palabras_cortas(['casa'], 5)\n",
    "    []\n",
    "    >>> eliminar_palabras_cortas(['verano'], 5)\n",
    "    ['verano']\n",
    "    >>> eliminar_palabras_cortas(['trigo'], 5)\n",
    "    ['trigo']\n",
    "    \"\"\"\n",
    "    lista_largas = []\n",
    "    for palabra in lista:\n",
    "        if len(palabra) >= longitud:\n",
    "            lista_largas.append(palabra)\n",
    "    return lista_largas\n"
   ]
  },
  {
   "cell_type": "code",
   "execution_count": null,
   "metadata": {},
   "outputs": [],
   "source": [
    "def eliminar_palabras_cortas(lista: list[str], limite: int) -> list[str]:\n",
    "    \"\"\"Devuelve una lista en la que se eliminan las palabras \n",
    "    Args:\n",
    "        lista (list[int]): La lista inicial\n",
    "        limite (int): El número de caracteres bajo el cual se eliminan\n",
    "\n",
    "    Returns:\n",
    "        list[int]: La lista con las palabras cortas\n",
    "    >>> eliminar_palabras_cortas(['casa', 'trigo', 'verano', 'sol'], 5)\n",
    "    ['trigo', 'verano']\n",
    "    >>> eliminar_palabras_cortas(['casa'], 5)\n",
    "    []\n",
    "    >>> eliminar_palabras_cortas(['verano'], 5)\n",
    "    ['verano']\n",
    "    >>> eliminar_palabras_cortas(['trigo'], 5)\n",
    "    ['trigo']\n",
    "    \"\"\"\n",
    "    lista_largas = []\n",
    "    for palabra in lista:\n",
    "        longitud = 0\n",
    "        for letra in palabra:\n",
    "            longitud += 1\n",
    "        if longitud >= limite:\n",
    "            lista_largas.append(palabra)\n",
    "    return lista_largas\n"
   ]
  },
  {
   "cell_type": "markdown",
   "metadata": {},
   "source": [
    "\n",
    "## Ejercicio 7\n",
    "\n",
    "A partir de una lista, escribe un programa que cree una lista nueva eliminando aquellos que están repetidos."
   ]
  },
  {
   "cell_type": "code",
   "execution_count": null,
   "metadata": {},
   "outputs": [],
   "source": [
    "def eliminar_repetidos(lista: list) -> list:\n",
    "    \"\"\"\n",
    "    >>> eliminar_repetidos([1, 2, 1, 3, 1])\n",
    "    [1, 2, 3]\n",
    "    >>> eliminar_repetidos([1, 2, 1, 3, 1, 2])\n",
    "    [1, 2, 3]\n",
    "    >>> eliminar_repetidos([1, 2, 3, 4, 9])\n",
    "    [1, 2, 3, 4, 9]\n",
    "    >>> eliminar_repetidos([])\n",
    "    []\n",
    "    >>> eliminar_repetidos([1, 1, 2, 2, 1, 3, 1, 2])\n",
    "    [1, 2, 3]\n",
    "    \"\"\"\n",
    "    resultado = []\n",
    "    for valor in lista:\n",
    "        if valor not in resultado:\n",
    "            resultado.append(valor)\n",
    "    return resultado"
   ]
  },
  {
   "cell_type": "markdown",
   "metadata": {},
   "source": [
    "## Ejercicio 8\n",
    "\n",
    "Escribe una función que reciba dos listas y devuelva una tercera con los elementos comunes a ambas."
   ]
  },
  {
   "cell_type": "code",
   "execution_count": null,
   "metadata": {},
   "outputs": [],
   "source": [
    "def elementos_comunes(lista1: list, lista2: list) -> list:\n",
    "    \"\"\"\n",
    "    >>> elementos_comunes([1, 2, 3, 4], [1, 4])\n",
    "    [1, 4]\n",
    "    >>> elementos_comunes([1, 2, 3, 4], [1, 4, 5])\n",
    "    [1, 4]\n",
    "    >>> elementos_comunes([1, 2, 3, 4], [5, 6])\n",
    "    []\n",
    "    >>> elementos_comunes([1, 2, 3, 4], [])\n",
    "    []\n",
    "    >>> elementos_comunes([], [5, 6])\n",
    "    []\n",
    "    \"\"\"\n",
    "    resultado = []\n",
    "    for valor in lista1:\n",
    "        if valor in lista2:\n",
    "            resultado.append(valor)\n",
    "    return resultado"
   ]
  },
  {
   "cell_type": "markdown",
   "metadata": {},
   "source": [
    "## Ejercicio 9\n",
    "\n",
    "Utilizando una lista, escribe una función a la que se le pase el número del mes y devuelva su nombre.\n",
    "\n",
    "Crea un programa principal para probarla.\n"
   ]
  },
  {
   "cell_type": "code",
   "execution_count": null,
   "metadata": {},
   "outputs": [],
   "source": [
    "def nombre_mes(num_mes: int) -> str:\n",
    "    \"\"\"\n",
    "    Devuelve el nombre del mes correspondiente dado un número de mes.\n",
    "\n",
    "    Parámetros:\n",
    "    num_mes (int): Un número entero que representa el mes del año.\n",
    "                   El número debe estar entre 1 (Enero) y 12 (Diciembre).\n",
    "\n",
    "    Retorna:\n",
    "    str: El nombre del mes correspondiente.\n",
    "\n",
    "    Ejemplos:\n",
    "    >>> nombre_mes(1)\n",
    "    'Enero'\n",
    "    >>> nombre_mes(5)\n",
    "    'Mayo'\n",
    "    >>> nombre_mes(12)\n",
    "    'Diciembre'\n",
    "    >>> nombre_mes(0)\n",
    "    'Mes no válido'\n",
    "    >>> nombre_mes(13)\n",
    "    'Mes no válido'\n",
    "    \"\"\"\n",
    "    meses = [\n",
    "    \"Enero\", \"Febrero\", \"Marzo\", \"Abril\", \"Mayo\", \"Junio\",\n",
    "    \"Julio\", \"Agosto\", \"Septiembre\", \"Octubre\", \"Noviembre\", \"Diciembre\"\n",
    "    ]\n",
    "    if num_mes < 1 or num_mes > 12:\n",
    "        return 'Mes no válido'\n",
    "    return meses[num_mes - 1]"
   ]
  },
  {
   "cell_type": "markdown",
   "metadata": {},
   "source": [
    "\n",
    "## Ejercicio 10\n",
    "\n",
    "Busca el algoritmo para calcular la letra del DNI y crea una función que use listas para devolver la letra del mismo."
   ]
  },
  {
   "cell_type": "code",
   "execution_count": null,
   "metadata": {},
   "outputs": [],
   "source": [
    "def letra_dni(numero_dni: int) -> str:\n",
    "    \"\"\"\n",
    "    Calcula la letra correspondiente a un número de DNI español.\n",
    "\n",
    "    Parámetros:\n",
    "    numero_dni (int): El número de DNI (sin la letra) para el que se desea obtener la letra correspondiente.\n",
    "\n",
    "    Retorna:\n",
    "    str: La letra correspondiente al número de DNI.\n",
    "         Si el número es negativo o mayor a 8 dígitos, devuelve 'Número no válido'.\n",
    "\n",
    "    Ejemplos:\n",
    "    >>> letra_dni(12345678)\n",
    "    'Z'\n",
    "    >>> letra_dni(12345679)\n",
    "    'S'\n",
    "    >>> letra_dni(0)\n",
    "    'T'\n",
    "    >>> letra_dni(-12345678)\n",
    "    'Número no válido'\n",
    "    >>> letra_dni(123456789)\n",
    "    'Número no válido'\n",
    "    \"\"\"\n",
    "    if numero_dni < 0 or numero_dni > 99999999:\n",
    "        return 'Número no válido'\n",
    "    # Lista de letras asociadas a los restos de la división entre 23\n",
    "    letras = ['T', 'R', 'W', 'A', 'G', 'M', 'Y', 'F', 'P', 'D', 'X', 'B', 'N', 'J', 'Z', 'S', 'Q', 'V', 'H', 'L', 'C', 'K', 'E']\n",
    "    return letras[numero_dni % 23]"
   ]
  },
  {
   "cell_type": "markdown",
   "metadata": {},
   "source": [
    "# Listas anidadas\n",
    "\n"
   ]
  },
  {
   "cell_type": "markdown",
   "metadata": {},
   "source": [
    "## Ejercicio 11\n",
    "\n",
    "Utiliza una lista bidimensional para almacenar las temperaturas máximas de cada día de cada mes. Cada mes será una fila y las temperaturas estarán en columnas.\n",
    "\n",
    "Muestra las medias de cada mes."
   ]
  },
  {
   "cell_type": "markdown",
   "metadata": {},
   "source": [
    "## Ejercicio 12\n",
    "\n",
    "Crea una lista bidimensional con las notas de lxs alumnxs de una clase en los diferentes módulos. Cada fila será un alumnx y cada columna, las notas de un módulo.\n",
    "\n",
    "Calcula la media de notas de un alumno.\n",
    "Repite este apartado utilizando bucles que accedan por índices a la lista.\n",
    "\n",
    "AVANZADO: Calcula la media de notas de un módulo.\n",
    "\n",
    "Crea una nueva lista con las medias de cada uno de los módulos. (Este ejercicio es más complicado, puesto que debe recorrerse primero por columnas y luego por filas, usa los bucles que acceden por índices a la lista)."
   ]
  },
  {
   "cell_type": "markdown",
   "metadata": {},
   "source": [
    "## Ejercicio 13\n",
    "\n",
    "Crea una lista bidimensional de 6 filas y 7 columnas con valores aleatorios entre 0 y 9.\n",
    "\n",
    "Muéstrala por pantalla.\n",
    "\n",
    "Recórrela y almacena en una variable cuántos números pares hay en ella y almacena en otra cuántos impares.\n",
    "\n",
    "Muestra los resultados por pantalla.\n",
    "\n",
    "Vuelve a recorrerla para crear una lista unidimensional nueva con los números pares que aparecen en ella y otra con los impares."
   ]
  },
  {
   "cell_type": "markdown",
   "metadata": {},
   "source": [
    "## Ejercicio 14\n",
    "\n",
    "Crea una lista bidimensional que contenga los agrupamientos del alumnado de una clase para un determinado proyecto. La lista contendrá otras listas con los componentes de cada grupo.\n",
    "\n",
    "Muestra la lista por pantalla, con los componentes de cada grupo en una misma línea. Haz que no aparezcan los []. Por ejemplo:\n",
    "\n",
    "```python\n",
    "Luis, Juan\n",
    "María, Elba, Mario\n",
    "Carola\n",
    "Pablo, Manuel, Raquel, Uxía\n",
    "```"
   ]
  },
  {
   "cell_type": "markdown",
   "metadata": {},
   "source": [
    "## Ejercicio 15\n",
    "\n",
    "Crea una lista bidimensional 3x3 que sirva para jugar al tres en raya, almacenará 3 posibles cadenas, una cadena vacía para indicar que no se ha puesto una ficha en esa posición, una 'o' para indicar que ha jugado el jugador 1 y una 'x' para el jugador 2.\n",
    "\n",
    "Crea una función que la recorra y que busque si se ha producido 3 en raya para el jugador 1 en alguna de las filas.\n",
    "\n",
    "Crea una función que la recorra y que busque si se ha producido 3 en raya para el jugador 1 en alguna de las columnas.\n",
    "\n",
    "**AVANZADO**: Crea una función que la recorra y que busque si se ha producido 3 en raya para el jugador 1 en alguna de las diagonales.\n",
    "\n",
    "**AVANZADO**: Crea una función que la recorra y que busque si se ha producido 3 en raya para algún jugador.\n",
    "\n",
    "**AVANZADO**: Completa el ejercicio para que dos jugadores puedan jugar al 3 en raya.\n"
   ]
  },
  {
   "cell_type": "markdown",
   "metadata": {},
   "source": [
    "# Comprensión de listas (AVANZADO)\n"
   ]
  },
  {
   "cell_type": "markdown",
   "metadata": {},
   "source": [
    "## Ejercicio 16\n",
    "\n",
    "Crea una lista con las 10 primeras potencias de 3."
   ]
  },
  {
   "cell_type": "markdown",
   "metadata": {},
   "source": [
    "## Ejercicio 17\n",
    "\n",
    "Crea una lista con los 100 primeros múltiplos de 7."
   ]
  },
  {
   "cell_type": "markdown",
   "metadata": {},
   "source": [
    "## Ejercicio 18\n",
    "\n",
    "Utilizando comprensión de listas, vuelve a resolver el ejercicio 3."
   ]
  },
  {
   "cell_type": "markdown",
   "metadata": {},
   "source": [
    "## Ejercicio 19\n",
    "\n",
    "Utilizando comprensión de listas, vuelve a resolver el ejercicio 4."
   ]
  },
  {
   "cell_type": "markdown",
   "metadata": {},
   "source": [
    "## Ejercicio 20\n",
    "\n",
    "Utilizando comprensión de listas, vuelve a resolver el ejercicio 6."
   ]
  },
  {
   "cell_type": "markdown",
   "metadata": {},
   "source": [
    "## Ejercicio 21\n",
    "\n",
    "Crea una lista con los números que sean múltiplos de 3 o de 5 hasta el 100."
   ]
  },
  {
   "cell_type": "markdown",
   "metadata": {},
   "source": [
    "## Ejercicio 22\n",
    "\n",
    "Crea una lista con los divisores de un número que se pasa por teclado."
   ]
  },
  {
   "cell_type": "markdown",
   "metadata": {},
   "source": [
    "## Ejercicio 23\n",
    "\n",
    "Crea una lista con los años que son bisiestos a partir de una lista de años.\n",
    "\n",
    "Por ejemplo, a partir de [1995, 2004, 2003, 1900, 2008] debe devolver [2004, 2008].\n",
    "\n",
    "Debes utilizar la función `es_bisiesto(anho)` creada en el tema anterior y comprensión de listas."
   ]
  }
 ],
 "metadata": {
  "kernelspec": {
   "display_name": "Python 3",
   "language": "python",
   "name": "python3"
  },
  "language_info": {
   "codemirror_mode": {
    "name": "ipython",
    "version": 3
   },
   "file_extension": ".py",
   "mimetype": "text/x-python",
   "name": "python",
   "nbconvert_exporter": "python",
   "pygments_lexer": "ipython3",
   "version": "3.10.12"
  }
 },
 "nbformat": 4,
 "nbformat_minor": 2
}
